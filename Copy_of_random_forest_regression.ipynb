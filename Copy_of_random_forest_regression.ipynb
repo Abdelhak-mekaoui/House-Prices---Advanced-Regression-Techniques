{
  "nbformat": 4,
  "nbformat_minor": 0,
  "metadata": {
    "colab": {
      "provenance": [],
      "include_colab_link": true
    },
    "kernelspec": {
      "name": "python3",
      "display_name": "Python 3"
    }
  },
  "cells": [
    {
      "cell_type": "markdown",
      "metadata": {
        "id": "view-in-github",
        "colab_type": "text"
      },
      "source": [
        "<a href=\"https://colab.research.google.com/github/Abdelhak-mekaoui/House-Prices---Advanced-Regression-Techniques/blob/Notebook/Copy_of_random_forest_regression.ipynb\" target=\"_parent\"><img src=\"https://colab.research.google.com/assets/colab-badge.svg\" alt=\"Open In Colab\"/></a>"
      ]
    },
    {
      "cell_type": "markdown",
      "metadata": {
        "id": "LeamvpPVXuS_"
      },
      "source": [
        "# House Prices - Advanced Regression Techniques"
      ]
    },
    {
      "cell_type": "markdown",
      "metadata": {
        "id": "O2wvZ7SKXzVC"
      },
      "source": [
        "## Importing the libraries"
      ]
    },
    {
      "cell_type": "code",
      "metadata": {
        "id": "PVmESEFZX4Ig"
      },
      "source": [
        "import numpy as np\n",
        "import matplotlib.pyplot as plt\n",
        "import pandas as pd\n",
        "import seaborn as sns"
      ],
      "execution_count": 132,
      "outputs": []
    },
    {
      "cell_type": "markdown",
      "metadata": {
        "id": "zgbK_F8-X7em"
      },
      "source": [
        "## Importing the dataset"
      ]
    },
    {
      "cell_type": "code",
      "metadata": {
        "id": "adBE4tjQX_Bh"
      },
      "source": [
        "train_data = pd.read_csv('train.csv')\n",
        "test_data = pd.read_csv('test.csv')\n",
        "sample_submission = pd.read_csv('sample_submission.csv')"
      ],
      "execution_count": 133,
      "outputs": []
    },
    {
      "cell_type": "code",
      "source": [
        "train_data.info()"
      ],
      "metadata": {
        "id": "TTSWrSaM83Kj",
        "outputId": "070db721-3557-4d9d-95f6-09366812ac07",
        "colab": {
          "base_uri": "https://localhost:8080/"
        }
      },
      "execution_count": 134,
      "outputs": [
        {
          "output_type": "stream",
          "name": "stdout",
          "text": [
            "<class 'pandas.core.frame.DataFrame'>\n",
            "RangeIndex: 1460 entries, 0 to 1459\n",
            "Data columns (total 81 columns):\n",
            " #   Column         Non-Null Count  Dtype  \n",
            "---  ------         --------------  -----  \n",
            " 0   Id             1460 non-null   int64  \n",
            " 1   MSSubClass     1460 non-null   int64  \n",
            " 2   MSZoning       1460 non-null   object \n",
            " 3   LotFrontage    1201 non-null   float64\n",
            " 4   LotArea        1460 non-null   int64  \n",
            " 5   Street         1460 non-null   object \n",
            " 6   Alley          91 non-null     object \n",
            " 7   LotShape       1460 non-null   object \n",
            " 8   LandContour    1460 non-null   object \n",
            " 9   Utilities      1460 non-null   object \n",
            " 10  LotConfig      1460 non-null   object \n",
            " 11  LandSlope      1460 non-null   object \n",
            " 12  Neighborhood   1460 non-null   object \n",
            " 13  Condition1     1460 non-null   object \n",
            " 14  Condition2     1460 non-null   object \n",
            " 15  BldgType       1460 non-null   object \n",
            " 16  HouseStyle     1460 non-null   object \n",
            " 17  OverallQual    1460 non-null   int64  \n",
            " 18  OverallCond    1460 non-null   int64  \n",
            " 19  YearBuilt      1460 non-null   int64  \n",
            " 20  YearRemodAdd   1460 non-null   int64  \n",
            " 21  RoofStyle      1460 non-null   object \n",
            " 22  RoofMatl       1460 non-null   object \n",
            " 23  Exterior1st    1460 non-null   object \n",
            " 24  Exterior2nd    1460 non-null   object \n",
            " 25  MasVnrType     1452 non-null   object \n",
            " 26  MasVnrArea     1452 non-null   float64\n",
            " 27  ExterQual      1460 non-null   object \n",
            " 28  ExterCond      1460 non-null   object \n",
            " 29  Foundation     1460 non-null   object \n",
            " 30  BsmtQual       1423 non-null   object \n",
            " 31  BsmtCond       1423 non-null   object \n",
            " 32  BsmtExposure   1422 non-null   object \n",
            " 33  BsmtFinType1   1423 non-null   object \n",
            " 34  BsmtFinSF1     1460 non-null   int64  \n",
            " 35  BsmtFinType2   1422 non-null   object \n",
            " 36  BsmtFinSF2     1460 non-null   int64  \n",
            " 37  BsmtUnfSF      1460 non-null   int64  \n",
            " 38  TotalBsmtSF    1460 non-null   int64  \n",
            " 39  Heating        1460 non-null   object \n",
            " 40  HeatingQC      1460 non-null   object \n",
            " 41  CentralAir     1460 non-null   object \n",
            " 42  Electrical     1459 non-null   object \n",
            " 43  1stFlrSF       1460 non-null   int64  \n",
            " 44  2ndFlrSF       1460 non-null   int64  \n",
            " 45  LowQualFinSF   1460 non-null   int64  \n",
            " 46  GrLivArea      1460 non-null   int64  \n",
            " 47  BsmtFullBath   1460 non-null   int64  \n",
            " 48  BsmtHalfBath   1460 non-null   int64  \n",
            " 49  FullBath       1460 non-null   int64  \n",
            " 50  HalfBath       1460 non-null   int64  \n",
            " 51  BedroomAbvGr   1460 non-null   int64  \n",
            " 52  KitchenAbvGr   1460 non-null   int64  \n",
            " 53  KitchenQual    1460 non-null   object \n",
            " 54  TotRmsAbvGrd   1460 non-null   int64  \n",
            " 55  Functional     1460 non-null   object \n",
            " 56  Fireplaces     1460 non-null   int64  \n",
            " 57  FireplaceQu    770 non-null    object \n",
            " 58  GarageType     1379 non-null   object \n",
            " 59  GarageYrBlt    1379 non-null   float64\n",
            " 60  GarageFinish   1379 non-null   object \n",
            " 61  GarageCars     1460 non-null   int64  \n",
            " 62  GarageArea     1460 non-null   int64  \n",
            " 63  GarageQual     1379 non-null   object \n",
            " 64  GarageCond     1379 non-null   object \n",
            " 65  PavedDrive     1460 non-null   object \n",
            " 66  WoodDeckSF     1460 non-null   int64  \n",
            " 67  OpenPorchSF    1460 non-null   int64  \n",
            " 68  EnclosedPorch  1460 non-null   int64  \n",
            " 69  3SsnPorch      1460 non-null   int64  \n",
            " 70  ScreenPorch    1460 non-null   int64  \n",
            " 71  PoolArea       1460 non-null   int64  \n",
            " 72  PoolQC         7 non-null      object \n",
            " 73  Fence          281 non-null    object \n",
            " 74  MiscFeature    54 non-null     object \n",
            " 75  MiscVal        1460 non-null   int64  \n",
            " 76  MoSold         1460 non-null   int64  \n",
            " 77  YrSold         1460 non-null   int64  \n",
            " 78  SaleType       1460 non-null   object \n",
            " 79  SaleCondition  1460 non-null   object \n",
            " 80  SalePrice      1460 non-null   int64  \n",
            "dtypes: float64(3), int64(35), object(43)\n",
            "memory usage: 924.0+ KB\n"
          ]
        }
      ]
    },
    {
      "cell_type": "code",
      "source": [
        "for column in train_data.columns :\n",
        "  if train_data[column].dtype == 'object' :\n",
        "    print(f\"{column} : {train_data[column].nunique()}\")"
      ],
      "metadata": {
        "id": "teqGhGry-FDU",
        "outputId": "715fb600-2b36-4a35-a5c4-5278458d682e",
        "colab": {
          "base_uri": "https://localhost:8080/"
        }
      },
      "execution_count": 135,
      "outputs": [
        {
          "output_type": "stream",
          "name": "stdout",
          "text": [
            "MSZoning : 5\n",
            "Street : 2\n",
            "Alley : 2\n",
            "LotShape : 4\n",
            "LandContour : 4\n",
            "Utilities : 2\n",
            "LotConfig : 5\n",
            "LandSlope : 3\n",
            "Neighborhood : 25\n",
            "Condition1 : 9\n",
            "Condition2 : 8\n",
            "BldgType : 5\n",
            "HouseStyle : 8\n",
            "RoofStyle : 6\n",
            "RoofMatl : 8\n",
            "Exterior1st : 15\n",
            "Exterior2nd : 16\n",
            "MasVnrType : 4\n",
            "ExterQual : 4\n",
            "ExterCond : 5\n",
            "Foundation : 6\n",
            "BsmtQual : 4\n",
            "BsmtCond : 4\n",
            "BsmtExposure : 4\n",
            "BsmtFinType1 : 6\n",
            "BsmtFinType2 : 6\n",
            "Heating : 6\n",
            "HeatingQC : 5\n",
            "CentralAir : 2\n",
            "Electrical : 5\n",
            "KitchenQual : 4\n",
            "Functional : 7\n",
            "FireplaceQu : 5\n",
            "GarageType : 6\n",
            "GarageFinish : 3\n",
            "GarageQual : 5\n",
            "GarageCond : 5\n",
            "PavedDrive : 3\n",
            "PoolQC : 3\n",
            "Fence : 4\n",
            "MiscFeature : 4\n",
            "SaleType : 9\n",
            "SaleCondition : 6\n"
          ]
        }
      ]
    },
    {
      "cell_type": "markdown",
      "source": [
        "# Dealing with missing values"
      ],
      "metadata": {
        "id": "YLkQLXSG8sAG"
      }
    },
    {
      "cell_type": "code",
      "source": [
        "train_data.isnull().sum()"
      ],
      "metadata": {
        "id": "3NxWDRL8ASYk",
        "outputId": "5f0b76fc-b1d0-4aa0-a012-887df41576a8",
        "colab": {
          "base_uri": "https://localhost:8080/"
        }
      },
      "execution_count": 136,
      "outputs": [
        {
          "output_type": "execute_result",
          "data": {
            "text/plain": [
              "Id                 0\n",
              "MSSubClass         0\n",
              "MSZoning           0\n",
              "LotFrontage      259\n",
              "LotArea            0\n",
              "                ... \n",
              "MoSold             0\n",
              "YrSold             0\n",
              "SaleType           0\n",
              "SaleCondition      0\n",
              "SalePrice          0\n",
              "Length: 81, dtype: int64"
            ]
          },
          "metadata": {},
          "execution_count": 136
        }
      ]
    },
    {
      "cell_type": "code",
      "source": [
        "sns.heatmap(train_data.isnull(),yticklabels=False,cbar=False)"
      ],
      "metadata": {
        "id": "bCrvj2S_AXuL",
        "outputId": "ee452f2a-21b8-4a91-cefb-cc8c4bae6a6f",
        "colab": {
          "base_uri": "https://localhost:8080/",
          "height": 348
        }
      },
      "execution_count": 137,
      "outputs": [
        {
          "output_type": "execute_result",
          "data": {
            "text/plain": [
              "<matplotlib.axes._subplots.AxesSubplot at 0x7f1fa241f580>"
            ]
          },
          "metadata": {},
          "execution_count": 137
        },
        {
          "output_type": "display_data",
          "data": {
            "text/plain": [
              "<Figure size 432x288 with 1 Axes>"
            ],
            "image/png": "[encoded data removed]"
          },
          "metadata": {
            "needs_background": "light"
          }
        }
      ]
    },
    {
      "cell_type": "code",
      "source": [
        "missing_values = train_data['GarageQual'].isnull().sum()\n",
        "print(missing_values)"
      ],
      "metadata": {
        "id": "tQ6GoFRFEG1K",
        "outputId": "c547f017-8c11-43b3-ba93-065a26f2e176",
        "colab": {
          "base_uri": "https://localhost:8080/"
        }
      },
      "execution_count": 138,
      "outputs": [
        {
          "output_type": "stream",
          "name": "stdout",
          "text": [
            "81\n"
          ]
        }
      ]
    },
    {
      "cell_type": "markdown",
      "source": [
        "**Droping columns with large number of missing values**"
      ],
      "metadata": {
        "id": "2mkuXlF1F_Yw"
      }
    },
    {
      "cell_type": "code",
      "source": [
        "columns_to_drop = ['Id','PoolQC','FireplaceQu','Alley','LotFrontage']"
      ],
      "metadata": {
        "id": "DEjYZvbAFnXX"
      },
      "execution_count": 139,
      "outputs": []
    },
    {
      "cell_type": "code",
      "source": [
        "train_data = train_data.drop(columns=columns_to_drop)\n",
        "test_data = test_data.drop(columns=columns_to_drop)"
      ],
      "metadata": {
        "id": "vV0DfOYmFqen"
      },
      "execution_count": 140,
      "outputs": []
    },
    {
      "cell_type": "code",
      "source": [
        "train_data.head()"
      ],
      "metadata": {
        "id": "AKJx1MkwGS9w",
        "outputId": "fe5a54ae-eaa5-4793-b0c8-195f5c809646",
        "colab": {
          "base_uri": "https://localhost:8080/",
          "height": 299
        }
      },
      "execution_count": 141,
      "outputs": [
        {
          "output_type": "execute_result",
          "data": {
            "text/plain": [
              "   MSSubClass MSZoning  LotArea Street LotShape LandContour Utilities  \\\n",
              "0          60       RL     8450   Pave      Reg         Lvl    AllPub   \n",
              "1          20       RL     9600   Pave      Reg         Lvl    AllPub   \n",
              "2          60       RL    11250   Pave      IR1         Lvl    AllPub   \n",
              "3          70       RL     9550   Pave      IR1         Lvl    AllPub   \n",
              "4          60       RL    14260   Pave      IR1         Lvl    AllPub   \n",
              "\n",
              "  LotConfig LandSlope Neighborhood  ... ScreenPorch PoolArea Fence  \\\n",
              "0    Inside       Gtl      CollgCr  ...           0        0   NaN   \n",
              "1       FR2       Gtl      Veenker  ...           0        0   NaN   \n",
              "2    Inside       Gtl      CollgCr  ...           0        0   NaN   \n",
              "3    Corner       Gtl      Crawfor  ...           0        0   NaN   \n",
              "4       FR2       Gtl      NoRidge  ...           0        0   NaN   \n",
              "\n",
              "  MiscFeature  MiscVal  MoSold  YrSold  SaleType SaleCondition SalePrice  \n",
              "0         NaN        0       2    2008        WD        Normal    208500  \n",
              "1         NaN        0       5    2007        WD        Normal    181500  \n",
              "2         NaN        0       9    2008        WD        Normal    223500  \n",
              "3         NaN        0       2    2006        WD       Abnorml    140000  \n",
              "4         NaN        0      12    2008        WD        Normal    250000  \n",
              "\n",
              "[5 rows x 76 columns]"
            ],
            "text/html": [
              "\n",
              "  <div id=\"df-eb8b77d1-7896-4791-bd79-a3c5198fba94\">\n",
              "    <div class=\"colab-df-container\">\n",
              "      <div>\n",
              "<style scoped>\n",
              "    .dataframe tbody tr th:only-of-type {\n",
              "        vertical-align: middle;\n",
              "    }\n",
              "\n",
              "    .dataframe tbody tr th {\n",
              "        vertical-align: top;\n",
              "    }\n",
              "\n",
              "    .dataframe thead th {\n",
              "        text-align: right;\n",
              "    }\n",
              "</style>\n",
              "<table border=\"1\" class=\"dataframe\">\n",
              "  <thead>\n",
              "    <tr style=\"text-align: right;\">\n",
              "      <th></th>\n",
              "      <th>MSSubClass</th>\n",
              "      <th>MSZoning</th>\n",
              "      <th>LotArea</th>\n",
              "      <th>Street</th>\n",
              "      <th>LotShape</th>\n",
              "      <th>LandContour</th>\n",
              "      <th>Utilities</th>\n",
              "      <th>LotConfig</th>\n",
              "      <th>LandSlope</th>\n",
              "      <th>Neighborhood</th>\n",
              "      <th>...</th>\n",
              "      <th>ScreenPorch</th>\n",
              "      <th>PoolArea</th>\n",
              "      <th>Fence</th>\n",
              "      <th>MiscFeature</th>\n",
              "      <th>MiscVal</th>\n",
              "      <th>MoSold</th>\n",
              "      <th>YrSold</th>\n",
              "      <th>SaleType</th>\n",
              "      <th>SaleCondition</th>\n",
              "      <th>SalePrice</th>\n",
              "    </tr>\n",
              "  </thead>\n",
              "  <tbody>\n",
              "    <tr>\n",
              "      <th>0</th>\n",
              "      <td>60</td>\n",
              "      <td>RL</td>\n",
              "      <td>8450</td>\n",
              "      <td>Pave</td>\n",
              "      <td>Reg</td>\n",
              "      <td>Lvl</td>\n",
              "      <td>AllPub</td>\n",
              "      <td>Inside</td>\n",
              "      <td>Gtl</td>\n",
              "      <td>CollgCr</td>\n",
              "      <td>...</td>\n",
              "      <td>0</td>\n",
              "      <td>0</td>\n",
              "      <td>NaN</td>\n",
              "      <td>NaN</td>\n",
              "      <td>0</td>\n",
              "      <td>2</td>\n",
              "      <td>2008</td>\n",
              "      <td>WD</td>\n",
              "      <td>Normal</td>\n",
              "      <td>208500</td>\n",
              "    </tr>\n",
              "    <tr>\n",
              "      <th>1</th>\n",
              "      <td>20</td>\n",
              "      <td>RL</td>\n",
              "      <td>9600</td>\n",
              "      <td>Pave</td>\n",
              "      <td>Reg</td>\n",
              "      <td>Lvl</td>\n",
              "      <td>AllPub</td>\n",
              "      <td>FR2</td>\n",
              "      <td>Gtl</td>\n",
              "      <td>Veenker</td>\n",
              "      <td>...</td>\n",
              "      <td>0</td>\n",
              "      <td>0</td>\n",
              "      <td>NaN</td>\n",
              "      <td>NaN</td>\n",
              "      <td>0</td>\n",
              "      <td>5</td>\n",
              "      <td>2007</td>\n",
              "      <td>WD</td>\n",
              "      <td>Normal</td>\n",
              "      <td>181500</td>\n",
              "    </tr>\n",
              "    <tr>\n",
              "      <th>2</th>\n",
              "      <td>60</td>\n",
              "      <td>RL</td>\n",
              "      <td>11250</td>\n",
              "      <td>Pave</td>\n",
              "      <td>IR1</td>\n",
              "      <td>Lvl</td>\n",
              "      <td>AllPub</td>\n",
              "      <td>Inside</td>\n",
              "      <td>Gtl</td>\n",
              "      <td>CollgCr</td>\n",
              "      <td>...</td>\n",
              "      <td>0</td>\n",
              "      <td>0</td>\n",
              "      <td>NaN</td>\n",
              "      <td>NaN</td>\n",
              "      <td>0</td>\n",
              "      <td>9</td>\n",
              "      <td>2008</td>\n",
              "      <td>WD</td>\n",
              "      <td>Normal</td>\n",
              "      <td>223500</td>\n",
              "    </tr>\n",
              "    <tr>\n",
              "      <th>3</th>\n",
              "      <td>70</td>\n",
              "      <td>RL</td>\n",
              "      <td>9550</td>\n",
              "      <td>Pave</td>\n",
              "      <td>IR1</td>\n",
              "      <td>Lvl</td>\n",
              "      <td>AllPub</td>\n",
              "      <td>Corner</td>\n",
              "      <td>Gtl</td>\n",
              "      <td>Crawfor</td>\n",
              "      <td>...</td>\n",
              "      <td>0</td>\n",
              "      <td>0</td>\n",
              "      <td>NaN</td>\n",
              "      <td>NaN</td>\n",
              "      <td>0</td>\n",
              "      <td>2</td>\n",
              "      <td>2006</td>\n",
              "      <td>WD</td>\n",
              "      <td>Abnorml</td>\n",
              "      <td>140000</td>\n",
              "    </tr>\n",
              "    <tr>\n",
              "      <th>4</th>\n",
              "      <td>60</td>\n",
              "      <td>RL</td>\n",
              "      <td>14260</td>\n",
              "      <td>Pave</td>\n",
              "      <td>IR1</td>\n",
              "      <td>Lvl</td>\n",
              "      <td>AllPub</td>\n",
              "      <td>FR2</td>\n",
              "      <td>Gtl</td>\n",
              "      <td>NoRidge</td>\n",
              "      <td>...</td>\n",
              "      <td>0</td>\n",
              "      <td>0</td>\n",
              "      <td>NaN</td>\n",
              "      <td>NaN</td>\n",
              "      <td>0</td>\n",
              "      <td>12</td>\n",
              "      <td>2008</td>\n",
              "      <td>WD</td>\n",
              "      <td>Normal</td>\n",
              "      <td>250000</td>\n",
              "    </tr>\n",
              "  </tbody>\n",
              "</table>\n",
              "<p>5 rows × 76 columns</p>\n",
              "</div>\n",
              "      <button class=\"colab-df-convert\" onclick=\"convertToInteractive('df-eb8b77d1-7896-4791-bd79-a3c5198fba94')\"\n",
              "              title=\"Convert this dataframe to an interactive table.\"\n",
              "              style=\"display:none;\">\n",
              "        \n",
              "  <svg xmlns=\"http://www.w3.org/2000/svg\" height=\"24px\"viewBox=\"0 0 24 24\"\n",
              "       width=\"24px\">\n",
              "    <path d=\"M0 0h24v24H0V0z\" fill=\"none\"/>\n",
              "    <path d=\"M18.56 5.44l.94 2.06.94-2.06 2.06-.94-2.06-.94-.94-2.06-.94 2.06-2.06.94zm-11 1L8.5 8.5l.94-2.06 2.06-.94-2.06-.94L8.5 2.5l-.94 2.06-2.06.94zm10 10l.94 2.06.94-2.06 2.06-.94-2.06-.94-.94-2.06-.94 2.06-2.06.94z\"/><path d=\"M17.41 7.96l-1.37-1.37c-.4-.4-.92-.59-1.43-.59-.52 0-1.04.2-1.43.59L10.3 9.45l-7.72 7.72c-.78.78-.78 2.05 0 2.83L4 21.41c.39.39.9.59 1.41.59.51 0 1.02-.2 1.41-.59l7.78-7.78 2.81-2.81c.8-.78.8-2.07 0-2.86zM5.41 20L4 18.59l7.72-7.72 1.47 1.35L5.41 20z\"/>\n",
              "  </svg>\n",
              "      </button>\n",
              "      \n",
              "  <style>\n",
              "    .colab-df-container {\n",
              "      display:flex;\n",
              "      flex-wrap:wrap;\n",
              "      gap: 12px;\n",
              "    }\n",
              "\n",
              "    .colab-df-convert {\n",
              "      background-color: #E8F0FE;\n",
              "      border: none;\n",
              "      border-radius: 50%;\n",
              "      cursor: pointer;\n",
              "      display: none;\n",
              "      fill: #1967D2;\n",
              "      height: 32px;\n",
              "      padding: 0 0 0 0;\n",
              "      width: 32px;\n",
              "    }\n",
              "\n",
              "    .colab-df-convert:hover {\n",
              "      background-color: #E2EBFA;\n",
              "      box-shadow: 0px 1px 2px rgba(60, 64, 67, 0.3), 0px 1px 3px 1px rgba(60, 64, 67, 0.15);\n",
              "      fill: #174EA6;\n",
              "    }\n",
              "\n",
              "    [theme=dark] .colab-df-convert {\n",
              "      background-color: #3B4455;\n",
              "      fill: #D2E3FC;\n",
              "    }\n",
              "\n",
              "    [theme=dark] .colab-df-convert:hover {\n",
              "      background-color: #434B5C;\n",
              "      box-shadow: 0px 1px 3px 1px rgba(0, 0, 0, 0.15);\n",
              "      filter: drop-shadow(0px 1px 2px rgba(0, 0, 0, 0.3));\n",
              "      fill: #FFFFFF;\n",
              "    }\n",
              "  </style>\n",
              "\n",
              "      <script>\n",
              "        const buttonEl =\n",
              "          document.querySelector('#df-eb8b77d1-7896-4791-bd79-a3c5198fba94 button.colab-df-convert');\n",
              "        buttonEl.style.display =\n",
              "          google.colab.kernel.accessAllowed ? 'block' : 'none';\n",
              "\n",
              "        async function convertToInteractive(key) {\n",
              "          const element = document.querySelector('#df-eb8b77d1-7896-4791-bd79-a3c5198fba94');\n",
              "          const dataTable =\n",
              "            await google.colab.kernel.invokeFunction('convertToInteractive',\n",
              "                                                     [key], {});\n",
              "          if (!dataTable) return;\n",
              "\n",
              "          const docLinkHtml = 'Like what you see? Visit the ' +\n",
              "            '<a target=\"_blank\" href=https://colab.research.google.com/notebooks/data_table.ipynb>data table notebook</a>'\n",
              "            + ' to learn more about interactive tables.';\n",
              "          element.innerHTML = '';\n",
              "          dataTable['output_type'] = 'display_data';\n",
              "          await google.colab.output.renderOutput(dataTable, element);\n",
              "          const docLink = document.createElement('div');\n",
              "          docLink.innerHTML = docLinkHtml;\n",
              "          element.appendChild(docLink);\n",
              "        }\n",
              "      </script>\n",
              "    </div>\n",
              "  </div>\n",
              "  "
            ]
          },
          "metadata": {},
          "execution_count": 141
        }
      ]
    },
    {
      "cell_type": "code",
      "source": [
        "categorical_columns=[]\n",
        "numerical_columns=[]\n",
        "categorical_columns_indexes=[]\n",
        "numerical_columns_indexes=[]\n",
        "for i,column in enumerate(train_data.columns) :\n",
        "  if train_data[column].dtype == 'object' :\n",
        "    categorical_columns.append(column)\n",
        "    categorical_columns_indexes.append(i)\n",
        "  else:\n",
        "    numerical_columns.append(column)\n",
        "    numerical_columns_indexes.append(i)\n",
        "\n",
        "print(categorical_columns)\n",
        "print(numerical_columns)\n",
        "print(categorical_columns_indexes)\n",
        "print(numerical_columns_indexes)"
      ],
      "metadata": {
        "id": "tLUjykyzGYeZ",
        "outputId": "544c2f50-4fc7-45d9-e409-9f012b9db4d8",
        "colab": {
          "base_uri": "https://localhost:8080/"
        }
      },
      "execution_count": 142,
      "outputs": [
        {
          "output_type": "stream",
          "name": "stdout",
          "text": [
            "['MSZoning', 'Street', 'LotShape', 'LandContour', 'Utilities', 'LotConfig', 'LandSlope', 'Neighborhood', 'Condition1', 'Condition2', 'BldgType', 'HouseStyle', 'RoofStyle', 'RoofMatl', 'Exterior1st', 'Exterior2nd', 'MasVnrType', 'ExterQual', 'ExterCond', 'Foundation', 'BsmtQual', 'BsmtCond', 'BsmtExposure', 'BsmtFinType1', 'BsmtFinType2', 'Heating', 'HeatingQC', 'CentralAir', 'Electrical', 'KitchenQual', 'Functional', 'GarageType', 'GarageFinish', 'GarageQual', 'GarageCond', 'PavedDrive', 'Fence', 'MiscFeature', 'SaleType', 'SaleCondition']\n",
            "['MSSubClass', 'LotArea', 'OverallQual', 'OverallCond', 'YearBuilt', 'YearRemodAdd', 'MasVnrArea', 'BsmtFinSF1', 'BsmtFinSF2', 'BsmtUnfSF', 'TotalBsmtSF', '1stFlrSF', '2ndFlrSF', 'LowQualFinSF', 'GrLivArea', 'BsmtFullBath', 'BsmtHalfBath', 'FullBath', 'HalfBath', 'BedroomAbvGr', 'KitchenAbvGr', 'TotRmsAbvGrd', 'Fireplaces', 'GarageYrBlt', 'GarageCars', 'GarageArea', 'WoodDeckSF', 'OpenPorchSF', 'EnclosedPorch', '3SsnPorch', 'ScreenPorch', 'PoolArea', 'MiscVal', 'MoSold', 'YrSold', 'SalePrice']\n",
            "[1, 3, 4, 5, 6, 7, 8, 9, 10, 11, 12, 13, 18, 19, 20, 21, 22, 24, 25, 26, 27, 28, 29, 30, 32, 36, 37, 38, 39, 50, 52, 54, 56, 59, 60, 61, 68, 69, 73, 74]\n",
            "[0, 2, 14, 15, 16, 17, 23, 31, 33, 34, 35, 40, 41, 42, 43, 44, 45, 46, 47, 48, 49, 51, 53, 55, 57, 58, 62, 63, 64, 65, 66, 67, 70, 71, 72, 75]\n"
          ]
        }
      ]
    },
    {
      "cell_type": "markdown",
      "source": [
        "**Fill in the missing values**"
      ],
      "metadata": {
        "id": "27NG9lNQHrmT"
      }
    },
    {
      "cell_type": "code",
      "source": [
        "X=train_data.iloc[:,:-1].values\n",
        "y=train_data.iloc[:,-1].values\n",
        "X_test=test_data.iloc[:,:].values\n"
      ],
      "metadata": {
        "id": "QgPjIDCFLTmK"
      },
      "execution_count": 143,
      "outputs": []
    },
    {
      "cell_type": "code",
      "source": [
        "print(X.shape)\n",
        "print(y.shape)\n",
        "print(X_test.shape)"
      ],
      "metadata": {
        "id": "MBvQnMXALyC-",
        "outputId": "8d4e2a49-caf6-4207-c3d4-bca3aede1f17",
        "colab": {
          "base_uri": "https://localhost:8080/"
        }
      },
      "execution_count": 144,
      "outputs": [
        {
          "output_type": "stream",
          "name": "stdout",
          "text": [
            "(1460, 75)\n",
            "(1460,)\n",
            "(1459, 75)\n"
          ]
        }
      ]
    },
    {
      "cell_type": "code",
      "source": [
        "print(X[:5,:])\n",
        "print(y)"
      ],
      "metadata": {
        "id": "E-L6T361LqDQ",
        "colab": {
          "base_uri": "https://localhost:8080/"
        },
        "outputId": "dc76f7e5-b978-4842-8903-2baeb01c9187"
      },
      "execution_count": 145,
      "outputs": [
        {
          "output_type": "stream",
          "name": "stdout",
          "text": [
            "[[60 'RL' 8450 'Pave' 'Reg' 'Lvl' 'AllPub' 'Inside' 'Gtl' 'CollgCr'\n",
            "  'Norm' 'Norm' '1Fam' '2Story' 7 5 2003 2003 'Gable' 'CompShg' 'VinylSd'\n",
            "  'VinylSd' 'BrkFace' 196.0 'Gd' 'TA' 'PConc' 'Gd' 'TA' 'No' 'GLQ' 706\n",
            "  'Unf' 0 150 856 'GasA' 'Ex' 'Y' 'SBrkr' 856 854 0 1710 1 0 2 1 3 1 'Gd'\n",
            "  8 'Typ' 0 'Attchd' 2003.0 'RFn' 2 548 'TA' 'TA' 'Y' 0 61 0 0 0 0 nan\n",
            "  nan 0 2 2008 'WD' 'Normal']\n",
            " [20 'RL' 9600 'Pave' 'Reg' 'Lvl' 'AllPub' 'FR2' 'Gtl' 'Veenker' 'Feedr'\n",
            "  'Norm' '1Fam' '1Story' 6 8 1976 1976 'Gable' 'CompShg' 'MetalSd'\n",
            "  'MetalSd' 'None' 0.0 'TA' 'TA' 'CBlock' 'Gd' 'TA' 'Gd' 'ALQ' 978 'Unf'\n",
            "  0 284 1262 'GasA' 'Ex' 'Y' 'SBrkr' 1262 0 0 1262 0 1 2 0 3 1 'TA' 6\n",
            "  'Typ' 1 'Attchd' 1976.0 'RFn' 2 460 'TA' 'TA' 'Y' 298 0 0 0 0 0 nan nan\n",
            "  0 5 2007 'WD' 'Normal']\n",
            " [60 'RL' 11250 'Pave' 'IR1' 'Lvl' 'AllPub' 'Inside' 'Gtl' 'CollgCr'\n",
            "  'Norm' 'Norm' '1Fam' '2Story' 7 5 2001 2002 'Gable' 'CompShg' 'VinylSd'\n",
            "  'VinylSd' 'BrkFace' 162.0 'Gd' 'TA' 'PConc' 'Gd' 'TA' 'Mn' 'GLQ' 486\n",
            "  'Unf' 0 434 920 'GasA' 'Ex' 'Y' 'SBrkr' 920 866 0 1786 1 0 2 1 3 1 'Gd'\n",
            "  6 'Typ' 1 'Attchd' 2001.0 'RFn' 2 608 'TA' 'TA' 'Y' 0 42 0 0 0 0 nan\n",
            "  nan 0 9 2008 'WD' 'Normal']\n",
            " [70 'RL' 9550 'Pave' 'IR1' 'Lvl' 'AllPub' 'Corner' 'Gtl' 'Crawfor'\n",
            "  'Norm' 'Norm' '1Fam' '2Story' 7 5 1915 1970 'Gable' 'CompShg' 'Wd Sdng'\n",
            "  'Wd Shng' 'None' 0.0 'TA' 'TA' 'BrkTil' 'TA' 'Gd' 'No' 'ALQ' 216 'Unf'\n",
            "  0 540 756 'GasA' 'Gd' 'Y' 'SBrkr' 961 756 0 1717 1 0 1 0 3 1 'Gd' 7\n",
            "  'Typ' 1 'Detchd' 1998.0 'Unf' 3 642 'TA' 'TA' 'Y' 0 35 272 0 0 0 nan\n",
            "  nan 0 2 2006 'WD' 'Abnorml']\n",
            " [60 'RL' 14260 'Pave' 'IR1' 'Lvl' 'AllPub' 'FR2' 'Gtl' 'NoRidge' 'Norm'\n",
            "  'Norm' '1Fam' '2Story' 8 5 2000 2000 'Gable' 'CompShg' 'VinylSd'\n",
            "  'VinylSd' 'BrkFace' 350.0 'Gd' 'TA' 'PConc' 'Gd' 'TA' 'Av' 'GLQ' 655\n",
            "  'Unf' 0 490 1145 'GasA' 'Ex' 'Y' 'SBrkr' 1145 1053 0 2198 1 0 2 1 4 1\n",
            "  'Gd' 9 'Typ' 1 'Attchd' 2000.0 'RFn' 3 836 'TA' 'TA' 'Y' 192 84 0 0 0 0\n",
            "  nan nan 0 12 2008 'WD' 'Normal']]\n",
            "[208500 181500 223500 ... 266500 142125 147500]\n"
          ]
        }
      ]
    },
    {
      "cell_type": "code",
      "source": [
        "from sklearn.impute import SimpleImputer\n",
        "si1=SimpleImputer(missing_values=np.nan,strategy='mean')\n",
        "si2=SimpleImputer(missing_values=np.nan,strategy='most_frequent')"
      ],
      "metadata": {
        "id": "Mga5BwOxHzBd"
      },
      "execution_count": 146,
      "outputs": []
    },
    {
      "cell_type": "code",
      "source": [
        "numerical_columns_indexes.remove(75)"
      ],
      "metadata": {
        "id": "bx1G5sT3M-pe"
      },
      "execution_count": 147,
      "outputs": []
    },
    {
      "cell_type": "code",
      "source": [
        "X[:,numerical_columns_indexes] = si1.fit_transform(X[:,numerical_columns_indexes])\n",
        "X[:,categorical_columns_indexes] = si2.fit_transform(X[:,categorical_columns_indexes])\n",
        "X_test[:,numerical_columns_indexes] = si1.fit_transform(X_test[:,numerical_columns_indexes])\n",
        "X_test[:,categorical_columns_indexes] = si2.fit_transform(X_test[:,categorical_columns_indexes])"
      ],
      "metadata": {
        "id": "D3S235bkMNcT"
      },
      "execution_count": 148,
      "outputs": []
    },
    {
      "cell_type": "markdown",
      "source": [
        "# OneHotEncoding & FeatureScaling\n",
        "\n"
      ],
      "metadata": {
        "id": "iQnPjGqQO1V1"
      }
    },
    {
      "cell_type": "code",
      "source": [
        "from sklearn.preprocessing import OneHotEncoder,StandardScaler,LabelEncoder\n",
        "from sklearn.compose import ColumnTransformer\n",
        "#Encoding and scaling the input variable\n",
        "ct = ColumnTransformer(transformers=[('encoder',OneHotEncoder(handle_unknown='ignore', sparse=False),categorical_columns_indexes)\n",
        "                                     ,('scaler',StandardScaler(),numerical_columns_indexes)]\n",
        "                       ,remainder='passthrough')\n",
        "ct.fit(np.concatenate((X,X_test)))\n",
        "X = np.array(ct.transform(X))\n",
        "X_test = np.array(ct.transform(X_test))"
      ],
      "metadata": {
        "id": "3Fo9LEwJM0p4"
      },
      "execution_count": 149,
      "outputs": []
    },
    {
      "cell_type": "code",
      "source": [
        "print(X.shape)"
      ],
      "metadata": {
        "id": "jVVyGmBaNUZy",
        "colab": {
          "base_uri": "https://localhost:8080/"
        },
        "outputId": "26a9cd1f-96eb-4527-f773-d8ee58af4c37"
      },
      "execution_count": 150,
      "outputs": [
        {
          "output_type": "stream",
          "name": "stdout",
          "text": [
            "(1460, 277)\n"
          ]
        }
      ]
    },
    {
      "cell_type": "code",
      "source": [
        "print(X_test.shape)"
      ],
      "metadata": {
        "colab": {
          "base_uri": "https://localhost:8080/"
        },
        "id": "jCHG-N23Poci",
        "outputId": "f08a7c73-b28f-449b-c3be-282c2e760787"
      },
      "execution_count": 151,
      "outputs": [
        {
          "output_type": "stream",
          "name": "stdout",
          "text": [
            "(1459, 277)\n"
          ]
        }
      ]
    },
    {
      "cell_type": "markdown",
      "source": [
        "# Spliting the dataset into Train set and cross validation set"
      ],
      "metadata": {
        "id": "WUzYgM3xRDXX"
      }
    },
    {
      "cell_type": "code",
      "source": [
        "from sklearn.model_selection import train_test_split\n",
        "X_train, X_cv, y_train, y_cv = train_test_split(X, y, test_size = 0.2, random_state = 0)"
      ],
      "metadata": {
        "id": "d1ap559kQuEr"
      },
      "execution_count": 152,
      "outputs": []
    },
    {
      "cell_type": "markdown",
      "source": [
        "# Training Regression models on the training set"
      ],
      "metadata": {
        "id": "wdr-LKtlRUn_"
      }
    },
    {
      "cell_type": "markdown",
      "source": [
        "**Random Forest**"
      ],
      "metadata": {
        "id": "kN0bTYumRk4o"
      }
    },
    {
      "cell_type": "code",
      "source": [
        "from sklearn.ensemble import RandomForestRegressor\n",
        "from sklearn.metrics import mean_squared_error\n",
        "from sklearn.metrics import r2_score\n",
        "\n",
        "max_depth = range(5,20)\n",
        "lt_1=[]\n",
        "lcv_1=[]\n",
        "R2_1=[]\n",
        "min=5\n",
        "\n",
        "for md in max_depth:\n",
        "  print(f\"=========================={md}===================================\")\n",
        "  regressor1 = RandomForestRegressor(n_estimators = 20, random_state = 0,max_depth=md)\n",
        "  regressor1.fit(X_train, y_train)\n",
        "  y_pred_train_1 = regressor1.predict(X_train)\n",
        "  y_pred_cv_1 = regressor1.predict(X_cv)\n",
        "  J_train_1 = mean_squared_error(y_train,y_pred_train_1)\n",
        "  J_cv_1 = mean_squared_error(y_cv,y_pred_cv_1)\n",
        "  lt_1.append(J_train_1)\n",
        "  lcv_1.append(J_cv_1)\n",
        "  if md!=5 and J_cv_1<lcv_1[-2]:\n",
        "    min = md\n",
        "  print( f\"J_train = {J_train_1}  J_cv = {J_cv_1}\\ndifference : {J_cv_1-J_train_1}\")\n",
        "  #R2_1.append(r2_score(y_cv, y_pred_cv_1)\n",
        "  r2_score(y_cv,y_pred_cv_1)\n"
      ],
      "metadata": {
        "colab": {
          "base_uri": "https://localhost:8080/"
        },
        "id": "TBUKuMXFRxUE",
        "outputId": "6cfff628-a347-4598-b181-43c754315540"
      },
      "execution_count": 153,
      "outputs": [
        {
          "output_type": "stream",
          "name": "stdout",
          "text": [
            "==========================5===================================\n",
            "J_train = 560889718.6193297  J_cv = 1410694209.623117\n",
            "difference : 849804491.0037873\n",
            "==========================6===================================\n",
            "J_train = 391956815.0289122  J_cv = 1368093330.3523905\n",
            "difference : 976136515.3234783\n",
            "==========================7===================================\n",
            "J_train = 296530236.4166436  J_cv = 1117770235.4656606\n",
            "difference : 821239999.049017\n",
            "==========================8===================================\n",
            "J_train = 226768392.37577283  J_cv = 1096855761.7209325\n",
            "difference : 870087369.3451596\n",
            "==========================9===================================\n",
            "J_train = 189586444.43516806  J_cv = 1108521360.2764394\n",
            "difference : 918934915.8412714\n",
            "==========================10===================================\n",
            "J_train = 169236701.50443476  J_cv = 1157594448.952775\n",
            "difference : 988357747.4483402\n",
            "==========================11===================================\n",
            "J_train = 151908829.24137416  J_cv = 1155243786.4622343\n",
            "difference : 1003334957.2208601\n",
            "==========================12===================================\n",
            "J_train = 143852118.82846016  J_cv = 1210439960.3050783\n",
            "difference : 1066587841.476618\n",
            "==========================13===================================\n",
            "J_train = 149068741.27968723  J_cv = 1243386627.1593807\n",
            "difference : 1094317885.8796935\n",
            "==========================14===================================\n",
            "J_train = 146922074.88701704  J_cv = 1150271837.490646\n",
            "difference : 1003349762.6036289\n",
            "==========================15===================================\n",
            "J_train = 145585159.82171664  J_cv = 1169810410.128194\n",
            "difference : 1024225250.3064774\n",
            "==========================16===================================\n",
            "J_train = 139666162.745901  J_cv = 1151250450.352365\n",
            "difference : 1011584287.606464\n",
            "==========================17===================================\n",
            "J_train = 145219010.19710144  J_cv = 1173133841.9920743\n",
            "difference : 1027914831.7949728\n",
            "==========================18===================================\n",
            "J_train = 144247442.60840487  J_cv = 1173618019.9662662\n",
            "difference : 1029370577.3578613\n",
            "==========================19===================================\n",
            "J_train = 141647987.04345238  J_cv = 1238754323.3209488\n",
            "difference : 1097106336.2774963\n"
          ]
        }
      ]
    },
    {
      "cell_type": "code",
      "source": [
        "print(min)\n",
        "plt.scatter(max_depth,lcv_1,color='blue')\n",
        "plt.title('max_depth vs cross validation error')\n",
        "plt.xlabel('max_depth')\n",
        "plt.ylabel('J_cv')\n",
        "plt.show()"
      ],
      "metadata": {
        "colab": {
          "base_uri": "https://localhost:8080/",
          "height": 313
        },
        "id": "Y0DoEFTKYCrt",
        "outputId": "692c9885-ef49-4163-d27b-be4512097f81"
      },
      "execution_count": 154,
      "outputs": [
        {
          "output_type": "stream",
          "name": "stdout",
          "text": [
            "16\n"
          ]
        },
        {
          "output_type": "display_data",
          "data": {
            "text/plain": [
              "<Figure size 432x288 with 1 Axes>"
            ],
            "image/png": "[encoded data removed]"
          },
          "metadata": {
            "needs_background": "light"
          }
        }
      ]
    },
    {
      "cell_type": "code",
      "source": [
        "min_md=9"
      ],
      "metadata": {
        "id": "0apqAGtFj-dL"
      },
      "execution_count": 155,
      "outputs": []
    },
    {
      "cell_type": "code",
      "source": [
        "min_samples_split = range(2,15)\n",
        "lt_2=[]\n",
        "lcv_2=[]\n",
        "R2_2=[]\n",
        "min_sp=2\n",
        "\n",
        "for msp in min_samples_split:\n",
        "  print(f\"=========================={msp}===================================\")\n",
        "  regressor1 = RandomForestRegressor(n_estimators = 20, random_state = 0,min_samples_split=msp)\n",
        "  regressor1.fit(X_train, y_train)\n",
        "  y_pred_train_1 = regressor1.predict(X_train)\n",
        "  y_pred_cv_1 = regressor1.predict(X_cv)\n",
        "  J_train_2 = mean_squared_error(y_train,y_pred_train_1)\n",
        "  J_cv_2 = mean_squared_error(y_cv,y_pred_cv_1)\n",
        "  lt_2.append(J_train_2)\n",
        "  lcv_2.append(J_cv_2)\n",
        "  if msp!=2 and J_cv_2<lcv_2[-2]:\n",
        "    min_sp = msp\n",
        "  print( f\"J_train = {J_train_2}  J_cv = {J_cv_2}\\ndifference : {J_cv_2-J_train_2}\")\n",
        "  #R2_1.append(r2_score(y_cv, y_pred_cv_1)\n",
        "  r2_score(y_cv,y_pred_cv_1)"
      ],
      "metadata": {
        "colab": {
          "base_uri": "https://localhost:8080/"
        },
        "id": "p8O5RMg0lJIO",
        "outputId": "28c95ca7-e912-4ddf-c9e1-322da9cfa69f"
      },
      "execution_count": 156,
      "outputs": [
        {
          "output_type": "stream",
          "name": "stdout",
          "text": [
            "==========================2===================================\n",
            "J_train = 141876295.50556508  J_cv = 1178986010.054726\n",
            "difference : 1037109714.5491608\n",
            "==========================3===================================\n",
            "J_train = 156723591.60708755  J_cv = 1153182566.3325326\n",
            "difference : 996458974.725445\n",
            "==========================4===================================\n",
            "J_train = 171259167.5177721  J_cv = 1184825145.1059952\n",
            "difference : 1013565977.5882231\n",
            "==========================5===================================\n",
            "J_train = 186074111.16138586  J_cv = 1158361665.9243815\n",
            "difference : 972287554.7629956\n",
            "==========================6===================================\n",
            "J_train = 189597124.03508106  J_cv = 1217619161.1174948\n",
            "difference : 1028022037.0824138\n",
            "==========================7===================================\n",
            "J_train = 211189831.1698173  J_cv = 1170429862.2280757\n",
            "difference : 959240031.0582584\n",
            "==========================8===================================\n",
            "J_train = 223715313.25428107  J_cv = 1229211174.4107234\n",
            "difference : 1005495861.1564424\n",
            "==========================9===================================\n",
            "J_train = 230466941.15881386  J_cv = 1118316010.1105356\n",
            "difference : 887849068.9517218\n",
            "==========================10===================================\n",
            "J_train = 250692415.57658434  J_cv = 1091547532.6448836\n",
            "difference : 840855117.0682993\n",
            "==========================11===================================\n",
            "J_train = 287288151.46081585  J_cv = 1210169794.937103\n",
            "difference : 922881643.4762871\n",
            "==========================12===================================\n",
            "J_train = 290355057.7759989  J_cv = 1138722750.4249897\n",
            "difference : 848367692.6489909\n",
            "==========================13===================================\n",
            "J_train = 308870344.74349785  J_cv = 1182218314.011543\n",
            "difference : 873347969.2680452\n",
            "==========================14===================================\n",
            "J_train = 325382733.9843768  J_cv = 1233776621.2430072\n",
            "difference : 908393887.2586304\n"
          ]
        }
      ]
    },
    {
      "cell_type": "code",
      "source": [
        "plt.scatter(min_samples_split,lcv_2,color='red')\n",
        "plt.title('min_samples_split vs cross validation error')\n",
        "plt.xlabel('min_samples_split')\n",
        "plt.ylabel('J_cv')\n",
        "plt.show()\n"
      ],
      "metadata": {
        "colab": {
          "base_uri": "https://localhost:8080/",
          "height": 296
        },
        "id": "sPaDLxfoss8l",
        "outputId": "f545207e-9a59-4071-8e8b-2758fd5bec5f"
      },
      "execution_count": 157,
      "outputs": [
        {
          "output_type": "display_data",
          "data": {
            "text/plain": [
              "<Figure size 432x288 with 1 Axes>"
            ],
            "image/png": "[encoded data removed]"
          },
          "metadata": {
            "needs_background": "light"
          }
        }
      ]
    },
    {
      "cell_type": "code",
      "source": [
        "regressor = RandomForestRegressor(n_estimators = 20, random_state = 0,max_depth=18,min_samples_split=13)\n",
        "regressor.fit(X_train, y_train)\n",
        "y_pred_train_1 = regressor.predict(X_train)\n",
        "y_pred_cv_1 = regressor.predict(X_cv)\n",
        "r2_score(y_cv,y_pred_cv_1)"
      ],
      "metadata": {
        "colab": {
          "base_uri": "https://localhost:8080/"
        },
        "id": "hQPQH7pftWzt",
        "outputId": "6b7bd4ef-f2f3-45ad-a752-bf21041c5c32"
      },
      "execution_count": 158,
      "outputs": [
        {
          "output_type": "execute_result",
          "data": {
            "text/plain": [
              "0.8284632274643003"
            ]
          },
          "metadata": {},
          "execution_count": 158
        }
      ]
    },
    {
      "cell_type": "code",
      "source": [
        "y_pred = regressor.predict(X_test)"
      ],
      "metadata": {
        "id": "HJuNZp2ftnCv"
      },
      "execution_count": 159,
      "outputs": []
    },
    {
      "cell_type": "code",
      "source": [
        "sub=sample_submission[['Id']]\n",
        "sub[\"SalePrice\"]=y_pred"
      ],
      "metadata": {
        "id": "UR4j-zZFuFhm"
      },
      "execution_count": 160,
      "outputs": []
    },
    {
      "cell_type": "code",
      "source": [
        "sub"
      ],
      "metadata": {
        "colab": {
          "base_uri": "https://localhost:8080/",
          "height": 423
        },
        "id": "k3PsaWL0wBzj",
        "outputId": "af27d5e1-7c90-40a2-f558-1e752a2987fd"
      },
      "execution_count": 161,
      "outputs": [
        {
          "output_type": "execute_result",
          "data": {
            "text/plain": [
              "        Id      SalePrice\n",
              "0     1461  126149.404651\n",
              "1     1462  153458.319875\n",
              "2     1463  183415.204721\n",
              "3     1464  178723.552206\n",
              "4     1465  201083.493348\n",
              "...    ...            ...\n",
              "1454  2915   91565.547645\n",
              "1455  2916   88342.604452\n",
              "1456  2917  154092.862370\n",
              "1457  2918  116804.631289\n",
              "1458  2919  219042.054898\n",
              "\n",
              "[1459 rows x 2 columns]"
            ],
            "text/html": [
              "\n",
              "  <div id=\"df-b8335411-272d-42a6-abe5-4be6e557581d\">\n",
              "    <div class=\"colab-df-container\">\n",
              "      <div>\n",
              "<style scoped>\n",
              "    .dataframe tbody tr th:only-of-type {\n",
              "        vertical-align: middle;\n",
              "    }\n",
              "\n",
              "    .dataframe tbody tr th {\n",
              "        vertical-align: top;\n",
              "    }\n",
              "\n",
              "    .dataframe thead th {\n",
              "        text-align: right;\n",
              "    }\n",
              "</style>\n",
              "<table border=\"1\" class=\"dataframe\">\n",
              "  <thead>\n",
              "    <tr style=\"text-align: right;\">\n",
              "      <th></th>\n",
              "      <th>Id</th>\n",
              "      <th>SalePrice</th>\n",
              "    </tr>\n",
              "  </thead>\n",
              "  <tbody>\n",
              "    <tr>\n",
              "      <th>0</th>\n",
              "      <td>1461</td>\n",
              "      <td>126149.404651</td>\n",
              "    </tr>\n",
              "    <tr>\n",
              "      <th>1</th>\n",
              "      <td>1462</td>\n",
              "      <td>153458.319875</td>\n",
              "    </tr>\n",
              "    <tr>\n",
              "      <th>2</th>\n",
              "      <td>1463</td>\n",
              "      <td>183415.204721</td>\n",
              "    </tr>\n",
              "    <tr>\n",
              "      <th>3</th>\n",
              "      <td>1464</td>\n",
              "      <td>178723.552206</td>\n",
              "    </tr>\n",
              "    <tr>\n",
              "      <th>4</th>\n",
              "      <td>1465</td>\n",
              "      <td>201083.493348</td>\n",
              "    </tr>\n",
              "    <tr>\n",
              "      <th>...</th>\n",
              "      <td>...</td>\n",
              "      <td>...</td>\n",
              "    </tr>\n",
              "    <tr>\n",
              "      <th>1454</th>\n",
              "      <td>2915</td>\n",
              "      <td>91565.547645</td>\n",
              "    </tr>\n",
              "    <tr>\n",
              "      <th>1455</th>\n",
              "      <td>2916</td>\n",
              "      <td>88342.604452</td>\n",
              "    </tr>\n",
              "    <tr>\n",
              "      <th>1456</th>\n",
              "      <td>2917</td>\n",
              "      <td>154092.862370</td>\n",
              "    </tr>\n",
              "    <tr>\n",
              "      <th>1457</th>\n",
              "      <td>2918</td>\n",
              "      <td>116804.631289</td>\n",
              "    </tr>\n",
              "    <tr>\n",
              "      <th>1458</th>\n",
              "      <td>2919</td>\n",
              "      <td>219042.054898</td>\n",
              "    </tr>\n",
              "  </tbody>\n",
              "</table>\n",
              "<p>1459 rows × 2 columns</p>\n",
              "</div>\n",
              "      <button class=\"colab-df-convert\" onclick=\"convertToInteractive('df-b8335411-272d-42a6-abe5-4be6e557581d')\"\n",
              "              title=\"Convert this dataframe to an interactive table.\"\n",
              "              style=\"display:none;\">\n",
              "        \n",
              "  <svg xmlns=\"http://www.w3.org/2000/svg\" height=\"24px\"viewBox=\"0 0 24 24\"\n",
              "       width=\"24px\">\n",
              "    <path d=\"M0 0h24v24H0V0z\" fill=\"none\"/>\n",
              "    <path d=\"M18.56 5.44l.94 2.06.94-2.06 2.06-.94-2.06-.94-.94-2.06-.94 2.06-2.06.94zm-11 1L8.5 8.5l.94-2.06 2.06-.94-2.06-.94L8.5 2.5l-.94 2.06-2.06.94zm10 10l.94 2.06.94-2.06 2.06-.94-2.06-.94-.94-2.06-.94 2.06-2.06.94z\"/><path d=\"M17.41 7.96l-1.37-1.37c-.4-.4-.92-.59-1.43-.59-.52 0-1.04.2-1.43.59L10.3 9.45l-7.72 7.72c-.78.78-.78 2.05 0 2.83L4 21.41c.39.39.9.59 1.41.59.51 0 1.02-.2 1.41-.59l7.78-7.78 2.81-2.81c.8-.78.8-2.07 0-2.86zM5.41 20L4 18.59l7.72-7.72 1.47 1.35L5.41 20z\"/>\n",
              "  </svg>\n",
              "      </button>\n",
              "      \n",
              "  <style>\n",
              "    .colab-df-container {\n",
              "      display:flex;\n",
              "      flex-wrap:wrap;\n",
              "      gap: 12px;\n",
              "    }\n",
              "\n",
              "    .colab-df-convert {\n",
              "      background-color: #E8F0FE;\n",
              "      border: none;\n",
              "      border-radius: 50%;\n",
              "      cursor: pointer;\n",
              "      display: none;\n",
              "      fill: #1967D2;\n",
              "      height: 32px;\n",
              "      padding: 0 0 0 0;\n",
              "      width: 32px;\n",
              "    }\n",
              "\n",
              "    .colab-df-convert:hover {\n",
              "      background-color: #E2EBFA;\n",
              "      box-shadow: 0px 1px 2px rgba(60, 64, 67, 0.3), 0px 1px 3px 1px rgba(60, 64, 67, 0.15);\n",
              "      fill: #174EA6;\n",
              "    }\n",
              "\n",
              "    [theme=dark] .colab-df-convert {\n",
              "      background-color: #3B4455;\n",
              "      fill: #D2E3FC;\n",
              "    }\n",
              "\n",
              "    [theme=dark] .colab-df-convert:hover {\n",
              "      background-color: #434B5C;\n",
              "      box-shadow: 0px 1px 3px 1px rgba(0, 0, 0, 0.15);\n",
              "      filter: drop-shadow(0px 1px 2px rgba(0, 0, 0, 0.3));\n",
              "      fill: #FFFFFF;\n",
              "    }\n",
              "  </style>\n",
              "\n",
              "      <script>\n",
              "        const buttonEl =\n",
              "          document.querySelector('#df-b8335411-272d-42a6-abe5-4be6e557581d button.colab-df-convert');\n",
              "        buttonEl.style.display =\n",
              "          google.colab.kernel.accessAllowed ? 'block' : 'none';\n",
              "\n",
              "        async function convertToInteractive(key) {\n",
              "          const element = document.querySelector('#df-b8335411-272d-42a6-abe5-4be6e557581d');\n",
              "          const dataTable =\n",
              "            await google.colab.kernel.invokeFunction('convertToInteractive',\n",
              "                                                     [key], {});\n",
              "          if (!dataTable) return;\n",
              "\n",
              "          const docLinkHtml = 'Like what you see? Visit the ' +\n",
              "            '<a target=\"_blank\" href=https://colab.research.google.com/notebooks/data_table.ipynb>data table notebook</a>'\n",
              "            + ' to learn more about interactive tables.';\n",
              "          element.innerHTML = '';\n",
              "          dataTable['output_type'] = 'display_data';\n",
              "          await google.colab.output.renderOutput(dataTable, element);\n",
              "          const docLink = document.createElement('div');\n",
              "          docLink.innerHTML = docLinkHtml;\n",
              "          element.appendChild(docLink);\n",
              "        }\n",
              "      </script>\n",
              "    </div>\n",
              "  </div>\n",
              "  "
            ]
          },
          "metadata": {},
          "execution_count": 161
        }
      ]
    },
    {
      "cell_type": "code",
      "source": [],
      "metadata": {
        "id": "PxvBnABxwEmY"
      },
      "execution_count": 161,
      "outputs": []
    }
  ]
}